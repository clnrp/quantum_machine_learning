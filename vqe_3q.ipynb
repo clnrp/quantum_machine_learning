{
 "cells": [
  {
   "cell_type": "code",
   "execution_count": 47,
   "metadata": {},
   "outputs": [],
   "source": [
    "from logicqubit.logic import *\n",
    "from cmath import *\n",
    "import numpy as np\n",
    "import sympy as sp\n",
    "import scipy\n",
    "from random import randrange\n",
    "from scipy.optimize import *\n",
    "import matplotlib.pyplot as plt"
   ]
  },
  {
   "cell_type": "code",
   "execution_count": 48,
   "metadata": {},
   "outputs": [],
   "source": [
    "gates = Gates(1)\n",
    "\n",
    "ID = gates.ID()\n",
    "X = gates.X()\n",
    "Y = gates.Y()\n",
    "Z = gates.Z()"
   ]
  },
  {
   "cell_type": "code",
   "execution_count": 73,
   "metadata": {},
   "outputs": [
    {
     "data": {
      "text/plain": [
       "[1, -1, -1, 1, 1, -1, -1, 1]"
      ]
     },
     "execution_count": 73,
     "metadata": {},
     "output_type": "execute_result"
    }
   ],
   "source": [
    "III = ID.kron(ID).kron(ID)\n",
    "XXX = X.kron(X).kron(X)\n",
    "YYY = Y.kron(Y).kron(Y)\n",
    "ZZZ = Z.kron(Z).kron(Z)\n",
    "IZZ = ID.kron(Z).kron(Z)\n",
    "ZZI = ID.kron(Z).kron(ID)\n",
    "sig_izz = [IZZ.get()[i,i] for i in range(len(IZZ.get()))]\n",
    "sig_zzi = [ZZI.get()[i,i] for i in range(len(ZZI.get()))]\n",
    "sig_izz"
   ]
  },
  {
   "cell_type": "code",
   "execution_count": 128,
   "metadata": {},
   "outputs": [
    {
     "data": {
      "text/plain": [
       "(-5.47213595499958+0j)"
      ]
     },
     "execution_count": 128,
     "metadata": {},
     "output_type": "execute_result"
    }
   ],
   "source": [
    "H = III*2 + YYY*4 + IZZ*3 + ZZZ*2\n",
    "\n",
    "min(scipy.linalg.eig(H.get())[0])"
   ]
  },
  {
   "cell_type": "code",
   "execution_count": 129,
   "metadata": {},
   "outputs": [],
   "source": [
    "def _ansatz(reg, params):\n",
    "    n_qubits = len(reg)\n",
    "    depth = n_qubits\n",
    "    for i in range(depth):\n",
    "        reg[1].CNOT(reg[0])\n",
    "        for j in range(n_qubits):\n",
    "            reg[i].RY(params[j])\n",
    "            \n",
    "def ansatz(reg, params):\n",
    "    n_qubits = len(reg)\n",
    "    depth = n_qubits\n",
    "    for i in range(depth):\n",
    "        for j in range(n_qubits):\n",
    "            if(j < n_qubits-1):\n",
    "                reg[j+1].CNOT(reg[j])\n",
    "            reg[i].RY(params[j])\n",
    "            \n",
    "def ansatz_3q(q1, q2, q3, params):\n",
    "    q1.RY(params[0])\n",
    "    q2.RY(params[1])\n",
    "    q3.RY(params[2])\n",
    "    q2.CNOT(q1)\n",
    "    q3.CNOT(q2)\n",
    "    q1.RX(params[3])\n",
    "    q2.RX(params[4])\n",
    "    q3.RX(params[5])\n",
    "    q2.CNOT(q1)\n",
    "    q3.CNOT(q2)\n",
    "    q1.RY(params[6])\n",
    "    q2.RY(params[7])\n",
    "    q3.RY(params[8])\n",
    "    q2.CNOT(q1)\n",
    "    q3.CNOT(q2)"
   ]
  },
  {
   "cell_type": "code",
   "execution_count": 130,
   "metadata": {},
   "outputs": [
    {
     "name": "stdout",
     "output_type": "stream",
     "text": [
      " final_simplex: (array([[ 0.12921139, -1.57086317,  1.57080437, -1.12420308, -3.03704134,\n",
      "         1.45367023, -0.29225308,  1.95750013,  1.5707652 ],\n",
      "       [ 0.12924501, -1.57078486,  1.57088293, -1.1242658 , -3.0369472 ,\n",
      "         1.4536376 , -0.29225486,  1.95729195,  1.57079917],\n",
      "       [ 0.12916145, -1.5708624 ,  1.57083772, -1.12424803, -3.03717848,\n",
      "         1.45370456, -0.29226349,  1.95760535,  1.57082513],\n",
      "       [ 0.12919184, -1.57076394,  1.57080683, -1.12432742, -3.03703452,\n",
      "         1.45363379, -0.29218685,  1.95743054,  1.57083746],\n",
      "       [ 0.12922316, -1.5708506 ,  1.57084737, -1.12431734, -3.03698036,\n",
      "         1.45369964, -0.29223934,  1.95744884,  1.57076656],\n",
      "       [ 0.1291532 , -1.57080607,  1.57081857, -1.12425794, -3.03700681,\n",
      "         1.45368743, -0.29227974,  1.95751193,  1.57072828],\n",
      "       [ 0.12924718, -1.57072935,  1.5707414 , -1.12422313, -3.03688703,\n",
      "         1.45354606, -0.29216359,  1.95727596,  1.57078718],\n",
      "       [ 0.12910942, -1.57073622,  1.57084631, -1.12426268, -3.03708219,\n",
      "         1.45366151, -0.29229058,  1.95749856,  1.57078757],\n",
      "       [ 0.12925603, -1.57089954,  1.57074983, -1.12423081, -3.03709666,\n",
      "         1.45364761, -0.29216064,  1.95753102,  1.57083743],\n",
      "       [ 0.12913261, -1.57076602,  1.57069762, -1.12420655, -3.03696704,\n",
      "         1.45362587, -0.29222644,  1.95754186,  1.57069371]]), array([-5.47213594, -5.47213594, -5.47213594, -5.47213593, -5.47213593,\n",
      "       -5.47213593, -5.47213593, -5.47213591, -5.47213591, -5.47213589]))\n",
      "           fun: -5.472135937489735\n",
      "       message: 'Maximum number of function evaluations has been exceeded.'\n",
      "          nfev: 1801\n",
      "           nit: 1237\n",
      "        status: 1\n",
      "       success: False\n",
      "             x: array([ 0.12921139, -1.57086317,  1.57080437, -1.12420308, -3.03704134,\n",
      "        1.45367023, -0.29225308,  1.95750013,  1.5707652 ])\n"
     ]
    }
   ],
   "source": [
    "def expectation_3q(params):\n",
    "    logicQuBit  = LogicQuBit(3)\n",
    "    q1 = Qubit()\n",
    "    q2 = Qubit()\n",
    "    q3 = Qubit()\n",
    "\n",
    "    ansatz_3q(q1,q2,q3,params)\n",
    "    #ansatz([q1,q2,q3],params)\n",
    "    psi = logicQuBit.getPsi()\n",
    "    \n",
    "    return (psi.adjoint()*H*psi).get()[0][0]\n",
    "\n",
    "minimum = minimize(expectation_3q, [0,0,0,0,0,0,0,0,0], method='Nelder-Mead', options={'xtol': 1e-10, 'ftol': 1e-10})\n",
    "print(minimum)"
   ]
  },
  {
   "cell_type": "code",
   "execution_count": 131,
   "metadata": {},
   "outputs": [],
   "source": [
    "#ZZZ\n",
    "#000 =  1\n",
    "#001 = -1\n",
    "#010 = -1\n",
    "#011 =  1\n",
    "#100 = -1\n",
    "#101 =  1\n",
    "#110 =  1\n",
    "#111 = -1\n",
    "\n",
    "def expectation_value(measurements, base = np.array([1,-1,-1,1,-1,1,1,-1])):\n",
    "    probabilities = np.array(measurements)\n",
    "    expectation = np.sum(base * probabilities)\n",
    "    return expectation\n",
    "\n",
    "def sigma_xxx(params):\n",
    "    logicQuBit  = LogicQuBit(3, first_left = False)\n",
    "    q1 = Qubit()\n",
    "    q2 = Qubit()\n",
    "    q3 = Qubit()\n",
    "    \n",
    "    ansatz_3q(q1,q2,q3,params)\n",
    "    \n",
    "    # medidas em XX\n",
    "    q1.RY(-pi/2)\n",
    "    q2.RY(-pi/2)\n",
    "    q3.RY(-pi/2)\n",
    "    \n",
    "    result = logicQuBit.Measure([q1,q2,q3])\n",
    "    result = expectation_value(result)\n",
    "    return result\n",
    "\n",
    "def sigma_yyy(params):\n",
    "    logicQuBit  = LogicQuBit(3, first_left = False)\n",
    "    q1 = Qubit()\n",
    "    q2 = Qubit()\n",
    "    q3 = Qubit()\n",
    "    \n",
    "    ansatz_3q(q1,q2,q3,params)\n",
    "    \n",
    "    # medidas em YY\n",
    "    q1.RX(pi/2)\n",
    "    q2.RX(pi/2)\n",
    "    q3.RX(pi/2)\n",
    "    \n",
    "    result = logicQuBit.Measure([q1,q2,q3])\n",
    "    result = expectation_value(result)\n",
    "    return result\n",
    "\n",
    "def sigma_zzz(params):\n",
    "    logicQuBit  = LogicQuBit(3, first_left = False)\n",
    "    q1 = Qubit()\n",
    "    q2 = Qubit()\n",
    "    q3 = Qubit()\n",
    "    \n",
    "    ansatz_3q(q1,q2,q3,params)\n",
    "          \n",
    "    result = logicQuBit.Measure([q1,q2,q3])\n",
    "    zzz = expectation_value(result)\n",
    "    izz = expectation_value(result, sig_izz) # [zzz, izz] = 0\n",
    "    return zzz, izz \n",
    "\n",
    "def expectation_energy(params):\n",
    "    xxx =  sigma_xxx(params)\n",
    "    yyy =  sigma_yyy(params)\n",
    "    zzz, izz =  sigma_zzz(params)\n",
    "\n",
    "    result = 2 + 4*yyy + 3*izz + 2*zzz\n",
    "    return result"
   ]
  },
  {
   "cell_type": "code",
   "execution_count": 132,
   "metadata": {},
   "outputs": [
    {
     "name": "stdout",
     "output_type": "stream",
     "text": [
      " final_simplex: (array([[-1.02400892,  1.28055431,  0.05946761,  1.33300369,  0.08342998,\n",
      "         2.19934652, -6.29492554,  1.83668327,  0.42674918],\n",
      "       [-1.0045284 ,  1.23991259,  0.10521914,  1.37250857,  0.10442777,\n",
      "         2.12314711, -6.24443198,  1.80795255,  0.41251561],\n",
      "       [-0.96316889,  1.28037413, -0.02258307,  1.37967455,  0.087312  ,\n",
      "         2.19233154, -6.29865919,  1.84036414,  0.42136336],\n",
      "       [-1.01088839,  1.26968456,  0.02772341,  1.47440312,  0.11925323,\n",
      "         2.16213358, -6.28100343,  1.81227668,  0.37292877],\n",
      "       [-0.93486007,  1.27946439,  0.01883379,  1.40376204,  0.10724767,\n",
      "         2.13684427, -6.31317357,  1.84579082,  0.39146723],\n",
      "       [-1.01355085,  1.25750614,  0.099545  ,  1.45014256,  0.12627078,\n",
      "         2.12002938, -6.27548029,  1.81035501,  0.36927212],\n",
      "       [-1.07176354,  1.24202417,  0.03454186,  1.48001232,  0.11766726,\n",
      "         2.1641785 , -6.1354307 ,  1.75219463,  0.36242693],\n",
      "       [-0.96319626,  1.2278143 ,  0.03577467,  1.41344896,  0.10253174,\n",
      "         2.13218961, -6.27560476,  1.81349595,  0.43456215],\n",
      "       [-0.99780333,  1.2340127 ,  0.00854529,  1.45831798,  0.10591945,\n",
      "         2.16471894, -6.27091469,  1.80239979,  0.42345559],\n",
      "       [-0.91029119,  1.2947923 ,  0.07297279,  1.40533249,  0.11793036,\n",
      "         2.11702152, -6.44888308,  1.89306445,  0.39471469]]), array([-5.17369093, -5.15754491, -5.15406618, -5.14643163, -5.14535456,\n",
      "       -5.1451482 , -5.14303204, -5.13943651, -5.13679564, -5.13092301]))\n",
      "           fun: -5.173690931894985\n",
      "       message: 'Maximum number of function evaluations has been exceeded.'\n",
      "          nfev: 1800\n",
      "           nit: 1247\n",
      "        status: 1\n",
      "       success: False\n",
      "             x: array([-1.02400892,  1.28055431,  0.05946761,  1.33300369,  0.08342998,\n",
      "        2.19934652, -6.29492554,  1.83668327,  0.42674918])\n"
     ]
    }
   ],
   "source": [
    "#initial_values = [random.random() for _ in range(3)]\n",
    "minimum = minimize(expectation_energy, [0,0,0,0,0,0,0,0,0], method='Nelder-Mead', options={'xtol': 1e-10, 'ftol': 1e-10})\n",
    "print(minimum)"
   ]
  },
  {
   "cell_type": "code",
   "execution_count": 133,
   "metadata": {},
   "outputs": [],
   "source": [
    "def gradient(params, evaluate):\n",
    "    n_params = params.shape[0]\n",
    "    shift = pi/2\n",
    "    gradients = np.zeros(n_params)\n",
    "    \n",
    "    for i in range(n_params):\n",
    "        #parameter shift rule\n",
    "        shift_vect = np.array([shift if j==i else 0 for j in range(n_params)])\n",
    "        shift_right = params + shift_vect\n",
    "        shift_left = params - shift_vect\n",
    "        \n",
    "        expectation_right = evaluate(shift_right)\n",
    "        expectation_left = evaluate(shift_left)\n",
    "\n",
    "        gradients[i] = expectation_right - expectation_left\n",
    "\n",
    "    return gradients"
   ]
  },
  {
   "cell_type": "code",
   "execution_count": 134,
   "metadata": {},
   "outputs": [],
   "source": [
    "params = np.random.uniform(-np.pi, np.pi, 9)\n",
    "last_params = np.zeros(9)"
   ]
  },
  {
   "cell_type": "code",
   "execution_count": 135,
   "metadata": {},
   "outputs": [
    {
     "name": "stderr",
     "output_type": "stream",
     "text": [
      "/tmp/ipykernel_12923/1088512639.py:15: ComplexWarning: Casting complex values to real discards the imaginary part\n",
      "  gradients[i] = expectation_right - expectation_left\n"
     ]
    },
    {
     "name": "stdout",
     "output_type": "stream",
     "text": [
      "2.269557430510688\n",
      "0.43148743285348523\n",
      "0.3173515038192558\n",
      "0.1843803492700199\n",
      "0.04327682033010166\n",
      "0.0205755822034282\n",
      "0.02982539400493711\n",
      "0.0242148016084765\n",
      "0.01835772396267603\n",
      "0.013352718021686673\n",
      "0.009994564789378567\n",
      "0.007462727872315965\n",
      "0.005675856339475829\n",
      "0.004299655543890113\n",
      "0.00327869541767134\n",
      "0.002487918781161013\n",
      "0.0018904697303590463\n",
      "0.0014302939341544803\n",
      "0.001081493614157969\n",
      "0.00081494892435412\n"
     ]
    }
   ],
   "source": [
    "lr = 0.1\n",
    "err = 1\n",
    "while err > 1e-3:\n",
    "    grad = gradient(params, expectation_energy)\n",
    "    params = params - lr*grad\n",
    "    err = abs(sum(params - last_params))\n",
    "    last_params = np.array(params)\n",
    "    print(err) "
   ]
  },
  {
   "cell_type": "code",
   "execution_count": 136,
   "metadata": {},
   "outputs": [
    {
     "data": {
      "text/plain": [
       "(-5.472130682938133+0j)"
      ]
     },
     "execution_count": 136,
     "metadata": {},
     "output_type": "execute_result"
    }
   ],
   "source": [
    "expectation_energy(params)"
   ]
  },
  {
   "cell_type": "code",
   "execution_count": null,
   "metadata": {},
   "outputs": [],
   "source": []
  }
 ],
 "metadata": {
  "kernelspec": {
   "display_name": "Python 3 (ipykernel)",
   "language": "python",
   "name": "python3"
  },
  "language_info": {
   "codemirror_mode": {
    "name": "ipython",
    "version": 3
   },
   "file_extension": ".py",
   "mimetype": "text/x-python",
   "name": "python",
   "nbconvert_exporter": "python",
   "pygments_lexer": "ipython3",
   "version": "3.8.5"
  }
 },
 "nbformat": 4,
 "nbformat_minor": 4
}
