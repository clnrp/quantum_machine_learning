{
 "cells": [
  {
   "cell_type": "code",
   "execution_count": 4,
   "metadata": {},
   "outputs": [
    {
     "name": "stdout",
     "output_type": "stream",
     "text": [
      "Cuda is not available!\n",
      "logicqubit version 1.5.8\n"
     ]
    }
   ],
   "source": [
    "from logicqubit.logic import *\n",
    "from cmath import *\n",
    "import numpy as np\n",
    "import sympy as sp\n",
    "import scipy\n",
    "from random import randrange\n",
    "from scipy.optimize import *\n",
    "import matplotlib.pyplot as plt"
   ]
  },
  {
   "cell_type": "code",
   "execution_count": 5,
   "metadata": {},
   "outputs": [],
   "source": [
    "gates = Gates()\n",
    "\n",
    "ID = gates.ID()\n",
    "X = gates.X()\n",
    "Y = gates.Y()\n",
    "Z = gates.Z()"
   ]
  },
  {
   "cell_type": "code",
   "execution_count": 6,
   "metadata": {},
   "outputs": [
    {
     "data": {
      "text/plain": [
       "array([[ 1,  0,  0,  0,  0,  0,  0,  0],\n",
       "       [ 0, -1,  0,  0,  0,  0,  0,  0],\n",
       "       [ 0,  0, -1,  0,  0,  0,  0,  0],\n",
       "       [ 0,  0,  0,  1,  0,  0,  0,  0],\n",
       "       [ 0,  0,  0,  0, -1,  0,  0,  0],\n",
       "       [ 0,  0,  0,  0,  0,  1,  0,  0],\n",
       "       [ 0,  0,  0,  0,  0,  0,  1,  0],\n",
       "       [ 0,  0,  0,  0,  0,  0,  0, -1]])"
      ]
     },
     "execution_count": 6,
     "metadata": {},
     "output_type": "execute_result"
    }
   ],
   "source": [
    "III = ID.kron(ID).kron(ID)\n",
    "XXX = X.kron(X).kron(X)\n",
    "YYY = Y.kron(Y).kron(Y)\n",
    "ZZZ = Z.kron(Z).kron(Z)\n",
    "ZZZ.get()"
   ]
  },
  {
   "cell_type": "code",
   "execution_count": 7,
   "metadata": {},
   "outputs": [
    {
     "data": {
      "text/plain": [
       "(-1.4721359549995796+0j)"
      ]
     },
     "execution_count": 7,
     "metadata": {},
     "output_type": "execute_result"
    }
   ],
   "source": [
    "#H = III -XXX*3 + YYY*4 + 2*ZZZ\n",
    "H = III*3 + YYY*4 + ZZZ*2 \n",
    "\n",
    "min(scipy.linalg.eig(H.get())[0])"
   ]
  },
  {
   "cell_type": "code",
   "execution_count": 8,
   "metadata": {},
   "outputs": [],
   "source": [
    "def _ansatz(reg, params):\n",
    "    n_qubits = len(reg)\n",
    "    depth = n_qubits\n",
    "    for i in range(depth):\n",
    "        reg[1].CNOT(reg[0])\n",
    "        for j in range(n_qubits):\n",
    "            reg[i].RY(params[j])\n",
    "            \n",
    "def ansatz(reg, params):\n",
    "    n_qubits = len(reg)\n",
    "    depth = n_qubits\n",
    "    for i in range(depth):\n",
    "        for j in range(n_qubits):\n",
    "            if(j < n_qubits-1):\n",
    "                reg[j+1].CNOT(reg[j])\n",
    "            reg[i].RY(params[j])\n",
    "            \n",
    "def ansatz_3q(q1, q2, q3, params):\n",
    "    q1.RY(params[0])\n",
    "    q2.RY(params[1])\n",
    "    q3.RY(params[2])\n",
    "    q2.CNOT(q1)\n",
    "    q3.CNOT(q2)\n",
    "    q1.RX(params[3])\n",
    "    q2.RX(params[4])\n",
    "    q3.RX(params[5])\n",
    "    q2.CNOT(q1)\n",
    "    q3.CNOT(q2)\n",
    "    q1.RY(params[6])\n",
    "    q2.RY(params[7])\n",
    "    q3.RY(params[8])\n",
    "    q2.CNOT(q1)\n",
    "    q3.CNOT(q2)"
   ]
  },
  {
   "cell_type": "code",
   "execution_count": 9,
   "metadata": {},
   "outputs": [
    {
     "name": "stderr",
     "output_type": "stream",
     "text": [
      "/home/cleoner/anaconda3/lib/python3.8/site-packages/scipy/optimize/optimize.py:586: ComplexWarning: Casting complex values to real discards the imaginary part\n",
      "  fsim[k] = func(sim[k])\n",
      "/home/cleoner/anaconda3/lib/python3.8/site-packages/scipy/optimize/optimize.py:618: ComplexWarning: Casting complex values to real discards the imaginary part\n",
      "  fsim[-1] = fxr\n",
      "/home/cleoner/anaconda3/lib/python3.8/site-packages/scipy/optimize/optimize.py:611: ComplexWarning: Casting complex values to real discards the imaginary part\n",
      "  fsim[-1] = fxe\n",
      "/home/cleoner/anaconda3/lib/python3.8/site-packages/scipy/optimize/optimize.py:614: ComplexWarning: Casting complex values to real discards the imaginary part\n",
      "  fsim[-1] = fxr\n",
      "/home/cleoner/anaconda3/lib/python3.8/site-packages/scipy/optimize/optimize.py:627: ComplexWarning: Casting complex values to real discards the imaginary part\n",
      "  fsim[-1] = fxc\n",
      "/home/cleoner/anaconda3/lib/python3.8/site-packages/scipy/optimize/optimize.py:637: ComplexWarning: Casting complex values to real discards the imaginary part\n",
      "  fsim[-1] = fxcc\n"
     ]
    },
    {
     "name": "stdout",
     "output_type": "stream",
     "text": [
      " final_simplex: (array([[-3.60525077,  1.57080132,  1.18012058, -1.57080266,  0.46680586,\n",
      "         1.86494343, -1.57079746, -0.1568917 ,  1.57079354],\n",
      "       [-3.60525079,  1.57078494,  1.18012295, -1.57078875,  0.46682062,\n",
      "         1.86493827, -1.57079823, -0.15689416,  1.57079446],\n",
      "       [-3.60522503,  1.57080941,  1.18008126, -1.57081888,  0.46665518,\n",
      "         1.86495151, -1.57075125, -0.15682623,  1.57078741],\n",
      "       [-3.60524148,  1.57080066,  1.18011314, -1.5707955 ,  0.46680025,\n",
      "         1.86493957, -1.57077886, -0.15689171,  1.57077469],\n",
      "       [-3.60523282,  1.57078693,  1.18013807, -1.57076316,  0.46692041,\n",
      "         1.86492038, -1.57087961, -0.15693767,  1.57081804],\n",
      "       [-3.60524394,  1.57078514,  1.18011215, -1.57077375,  0.46679038,\n",
      "         1.86494007, -1.57084089, -0.15687503,  1.57082346],\n",
      "       [-3.60524484,  1.57077406,  1.18009212, -1.57084081,  0.46662664,\n",
      "         1.86495482, -1.57068932, -0.15680621,  1.5707867 ],\n",
      "       [-3.60523456,  1.57078913,  1.18008963, -1.57086534,  0.46661501,\n",
      "         1.86495394, -1.57064873, -0.15681039,  1.57075969],\n",
      "       [-3.60522091,  1.57079184,  1.18016244, -1.57077298,  0.46703134,\n",
      "         1.86490214, -1.57086619, -0.15699751,  1.5707857 ],\n",
      "       [-3.60523472,  1.57077359,  1.18012498, -1.5708611 ,  0.4667413 ,\n",
      "         1.86493613, -1.5706951 , -0.15686398,  1.57077915]]), array([-1.47213595, -1.47213595, -1.47213595, -1.47213595, -1.47213595,\n",
      "       -1.47213595, -1.47213595, -1.47213595, -1.47213595, -1.47213595]))\n",
      "           fun: -1.4721359545687676\n",
      "       message: 'Maximum number of function evaluations has been exceeded.'\n",
      "          nfev: 1801\n",
      "           nit: 1235\n",
      "        status: 1\n",
      "       success: False\n",
      "             x: array([-3.60525077,  1.57080132,  1.18012058, -1.57080266,  0.46680586,\n",
      "        1.86494343, -1.57079746, -0.1568917 ,  1.57079354])\n"
     ]
    }
   ],
   "source": [
    "def expectation_3q(params):\n",
    "    logicQuBit  = LogicQuBit(3)\n",
    "    q1 = Qubit()\n",
    "    q2 = Qubit()\n",
    "    q3 = Qubit()\n",
    "\n",
    "    ansatz_3q(q1,q2,q3,params)\n",
    "    #ansatz([q1,q2,q3],params)\n",
    "    psi = logicQuBit.getPsi()\n",
    "    \n",
    "    return (psi.adjoint()*H*psi).get()[0][0]\n",
    "\n",
    "minimum = minimize(expectation_3q, [0,0,0,0,0,0,0,0,0], method='Nelder-Mead',options={'xtol': 1e-10, 'ftol': 1e-10})\n",
    "print(minimum)"
   ]
  },
  {
   "cell_type": "code",
   "execution_count": 10,
   "metadata": {},
   "outputs": [],
   "source": [
    "#000 =  1\n",
    "#001 = -1\n",
    "#010 = -1\n",
    "#011 =  1\n",
    "#100 = -1\n",
    "#101 =  1\n",
    "#110 =  1\n",
    "#111 = -1\n",
    "\n",
    "def expectation_value(measurements):\n",
    "    probabilities = np.array(measurements)\n",
    "    states = np.array([1,-1,-1,1,-1,1,1,-1])\n",
    "    expectation = np.sum(states * probabilities)\n",
    "    return expectation\n",
    "\n",
    "def sigma_xxx(params):\n",
    "    logicQuBit  = LogicQuBit(3, first_left = False)\n",
    "    q1 = Qubit()\n",
    "    q2 = Qubit()\n",
    "    q3 = Qubit()\n",
    "    \n",
    "    ansatz_3q(q1,q2,q3,params)\n",
    "    \n",
    "    # medidas em XX\n",
    "    q1.RY(-pi/2)\n",
    "    q2.RY(-pi/2)\n",
    "    q3.RY(-pi/2)\n",
    "    \n",
    "    result = logicQuBit.Measure([q1,q2,q3])\n",
    "    result = expectation_value(result)\n",
    "    return result\n",
    "\n",
    "def sigma_yyy(params):\n",
    "    logicQuBit  = LogicQuBit(3, first_left = False)\n",
    "    q1 = Qubit()\n",
    "    q2 = Qubit()\n",
    "    q3 = Qubit()\n",
    "    \n",
    "    ansatz_3q(q1,q2,q3,params)\n",
    "    \n",
    "    # medidas em YY\n",
    "    q1.RX(pi/2)\n",
    "    q2.RX(pi/2)\n",
    "    q3.RX(pi/2)\n",
    "    \n",
    "    result = logicQuBit.Measure([q1,q2,q3])\n",
    "    result = expectation_value(result)\n",
    "    return result\n",
    "\n",
    "def sigma_zzz(params):\n",
    "    logicQuBit  = LogicQuBit(3, first_left = False)\n",
    "    q1 = Qubit()\n",
    "    q2 = Qubit()\n",
    "    q3 = Qubit()\n",
    "    \n",
    "    ansatz_3q(q1,q2,q3,params)\n",
    "          \n",
    "    result = logicQuBit.Measure([q1,q2,q3])\n",
    "    result = expectation_value(result)\n",
    "    return result\n",
    "\n",
    "def expectation_energy(params):\n",
    "    xxx =  sigma_xxx(params)\n",
    "    yyy =  sigma_yyy(params)\n",
    "    zzz =  sigma_zzz(params)\n",
    "\n",
    "    result = 3 + 4*yyy + 2*zzz\n",
    "    return result"
   ]
  },
  {
   "cell_type": "code",
   "execution_count": 71,
   "metadata": {},
   "outputs": [
    {
     "name": "stdout",
     "output_type": "stream",
     "text": [
      " final_simplex: (array([[-3.60551795,  1.56899032,  1.22124065, -1.52295114,  0.68953303,\n",
      "         1.83960401, -1.67633677, -0.25644847,  1.58081892],\n",
      "       [-3.60551592,  1.56898838,  1.22122658, -1.52297746,  0.68945212,\n",
      "         1.839611  , -1.67626246, -0.25641571,  1.58079414],\n",
      "       [-3.60550961,  1.56898733,  1.22124431, -1.5229531 ,  0.6895491 ,\n",
      "         1.83959777, -1.67633799, -0.25645636,  1.58081858],\n",
      "       [-3.60551386,  1.56897552,  1.22123858, -1.52297246,  0.68949501,\n",
      "         1.8396024 , -1.67627537, -0.25643219,  1.58080144],\n",
      "       [-3.60550473,  1.5689861 ,  1.22123355, -1.52299405,  0.68946617,\n",
      "         1.83960351, -1.67624804, -0.2564248 ,  1.58078991],\n",
      "       [-3.60550773,  1.56899082,  1.22122836, -1.52293521,  0.68951552,\n",
      "         1.839602  , -1.67634086, -0.25644044,  1.58081389],\n",
      "       [-3.60550306,  1.56898549,  1.2212412 , -1.52297973,  0.68951144,\n",
      "         1.83959795, -1.67628643, -0.25644326,  1.58080226],\n",
      "       [-3.60550527,  1.56897816,  1.22124409, -1.5229923 ,  0.68950098,\n",
      "         1.83959803, -1.67625981, -0.25643855,  1.58079681],\n",
      "       [-3.60551725,  1.56899302,  1.22124103, -1.52296393,  0.68952199,\n",
      "         1.83960522, -1.67632085, -0.25644556,  1.58081443],\n",
      "       [-3.6055128 ,  1.56897781,  1.22122927, -1.52296181,  0.68947585,\n",
      "         1.83960489, -1.67627778, -0.2564231 ,  1.58079889]]), array([-1.47191662, -1.47191662, -1.47191662, -1.47191662, -1.47191662,\n",
      "       -1.47191662, -1.47191662, -1.47191662, -1.47191662, -1.47191662]))\n",
      "           fun: -1.4719166160059056\n",
      "       message: 'Optimization terminated successfully.'\n",
      "          nfev: 1152\n",
      "           nit: 777\n",
      "        status: 0\n",
      "       success: True\n",
      "             x: array([-3.60551795,  1.56899032,  1.22124065, -1.52295114,  0.68953303,\n",
      "        1.83960401, -1.67633677, -0.25644847,  1.58081892])\n"
     ]
    }
   ],
   "source": [
    "#initial_values = [random.random() for _ in range(3)]\n",
    "minimum = minimize(expectation_energy, [0,0,0,0,0,0,0,0,0], method='Nelder-Mead')\n",
    "print(minimum)"
   ]
  },
  {
   "cell_type": "code",
   "execution_count": 47,
   "metadata": {},
   "outputs": [],
   "source": [
    "def gradient(params, evaluate):\n",
    "    n_params = params.shape[0]\n",
    "    shift = pi/2\n",
    "    gradients = np.zeros(n_params)\n",
    "    \n",
    "    for i in range(n_params):\n",
    "        #parameter shift rule\n",
    "        shift_vect = np.array([shift if j==i else 0 for j in range(n_params)])\n",
    "        shift_right = params + shift_vect\n",
    "        shift_left = params - shift_vect\n",
    "        \n",
    "        expectation_right = evaluate(shift_right)\n",
    "        expectation_left = evaluate(shift_left)\n",
    "\n",
    "        gradients[i] = expectation_right - expectation_left\n",
    "\n",
    "    return gradients"
   ]
  },
  {
   "cell_type": "code",
   "execution_count": 54,
   "metadata": {},
   "outputs": [],
   "source": [
    "params = np.random.uniform(-np.pi, np.pi, 9)\n",
    "last_params = np.zeros(9)"
   ]
  },
  {
   "cell_type": "code",
   "execution_count": 55,
   "metadata": {},
   "outputs": [
    {
     "name": "stderr",
     "output_type": "stream",
     "text": [
      "<ipython-input-47-cef20e405c15>:15: ComplexWarning: Casting complex values to real discards the imaginary part\n",
      "  gradients[i] = expectation_right - expectation_left\n"
     ]
    },
    {
     "name": "stdout",
     "output_type": "stream",
     "text": [
      "10.004533820473112\n",
      "0.5533551137481117\n",
      "0.233968631579363\n",
      "0.019268585115735745\n",
      "0.007704532558825826\n",
      "0.0003560294140712234\n",
      "0.0005557234110477368\n",
      "0.00015020791629657406\n",
      "9.61793953136669e-05\n",
      "4.054731199529813e-05\n",
      "2.000867518616722e-05\n",
      "8.978795452074802e-06\n",
      "4.128136904735234e-06\n",
      "1.8483134366920062e-06\n",
      "8.273270829195486e-07\n",
      "3.6651696094791575e-07\n",
      "1.6172455638008285e-07\n",
      "7.095660549127912e-08\n",
      "3.101251246917513e-08\n",
      "1.350202382122134e-08\n",
      "5.859819240949804e-09\n",
      "2.5357088651034587e-09\n",
      "1.0944750217234398e-09\n",
      "4.713113233023591e-10\n",
      "2.025393852633783e-10\n",
      "8.687534025497712e-11\n",
      "3.7199521241149114e-11\n",
      "1.5904533245958417e-11\n",
      "6.789613316016129e-12\n",
      "2.895594874985363e-12\n",
      "1.2331358156814075e-12\n",
      "5.244138456816927e-13\n",
      "2.2241097852315758e-13\n",
      "9.514611321037592e-14\n",
      "3.933520176246929e-14\n",
      "1.6997514507011146e-14\n",
      "7.471800955727303e-15\n",
      "2.8643754035329036e-15\n",
      "6.772360450213453e-16\n"
     ]
    }
   ],
   "source": [
    "lr = 0.1\n",
    "err = 1\n",
    "while err > 1e-15:\n",
    "    grad = gradient(params, expectation_energy)\n",
    "    params = params - lr*grad\n",
    "    err = abs(sum(params - last_params))\n",
    "    last_params = np.array(params)\n",
    "    print(err) "
   ]
  },
  {
   "cell_type": "code",
   "execution_count": 56,
   "metadata": {},
   "outputs": [
    {
     "data": {
      "text/plain": [
       "(-1.472135954999581+0j)"
      ]
     },
     "execution_count": 56,
     "metadata": {},
     "output_type": "execute_result"
    }
   ],
   "source": [
    "expectation_energy(params)"
   ]
  },
  {
   "cell_type": "code",
   "execution_count": null,
   "metadata": {},
   "outputs": [],
   "source": []
  }
 ],
 "metadata": {
  "kernelspec": {
   "display_name": "Python 3",
   "language": "python",
   "name": "python3"
  },
  "language_info": {
   "codemirror_mode": {
    "name": "ipython",
    "version": 3
   },
   "file_extension": ".py",
   "mimetype": "text/x-python",
   "name": "python",
   "nbconvert_exporter": "python",
   "pygments_lexer": "ipython3",
   "version": "3.8.5"
  }
 },
 "nbformat": 4,
 "nbformat_minor": 4
}
