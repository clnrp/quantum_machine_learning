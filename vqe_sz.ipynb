{
 "cells": [
  {
   "cell_type": "code",
   "execution_count": 1,
   "metadata": {},
   "outputs": [
    {
     "name": "stdout",
     "output_type": "stream",
     "text": [
      "Cuda is not available!\n",
      "logicqubit version 1.5.6\n"
     ]
    }
   ],
   "source": [
    "from logicqubit.logic import *\n",
    "from cmath import *\n",
    "import numpy as np\n",
    "import sympy as sp\n",
    "from scipy.optimize import *\n",
    "import matplotlib.pyplot as plt"
   ]
  },
  {
   "cell_type": "code",
   "execution_count": 2,
   "metadata": {},
   "outputs": [],
   "source": [
    "def ansatz_1q(q, theta):\n",
    "    return q.RY(theta)\n",
    "\n",
    "def ansatz_2q(q1, q2, params):\n",
    "    q2.CNOT(q1)\n",
    "    q1.RY(params[0])\n",
    "    q2.RY(params[1])\n",
    "    q1.CNOT(q2)\n",
    "    q1.RY(params[0])\n",
    "    q2.RY(params[1])\n",
    "    q2.CNOT(q1)\n",
    "    q1.RY(params[0])\n",
    "    q2.RY(params[1])\n",
    "           \n",
    "def ansatz(reg, params):\n",
    "    n_qubits = len(reg)\n",
    "    depth = n_qubits\n",
    "    for i in range(depth):\n",
    "        for j in range(n_qubits):\n",
    "            if(j < n_qubits-1):\n",
    "                reg[j+1].CNOT(reg[j])\n",
    "            reg[i].RY(params[j])\n",
    "            \n",
    "def expectation_Z(theta):\n",
    "    # H = Sz\n",
    "    # <psi|H|psi> = <psi| [[1,0],[0,-1]] |psi>\n",
    "    # |0><0|=[[1,0],[0,0]] e |1><1|=[[0,0],[0,1]]\n",
    "    # <psi|H|psi> = <psi|0><0|psi> - <psi|1><1|psi> = <0> - <1>\n",
    "    \n",
    "    logicQuBit  = LogicQuBit(1)\n",
    "    q = Qubit()\n",
    "    \n",
    "    ansatz_1q(q, theta)\n",
    "\n",
    "    res = logicQuBit.Measure([q])\n",
    "    return res[0]-res[1]"
   ]
  },
  {
   "cell_type": "code",
   "execution_count": 3,
   "metadata": {},
   "outputs": [
    {
     "name": "stderr",
     "output_type": "stream",
     "text": [
      "/home/cleoner/anaconda3/lib/python3.8/site-packages/numpy/core/_asarray.py:85: ComplexWarning: Casting complex values to real discards the imaginary part\n",
      "  return array(a, dtype, copy=False, order=order)\n"
     ]
    },
    {
     "data": {
      "image/png": "[encoded data removed]",
      "text/plain": [
       "<Figure size 432x288 with 1 Axes>"
      ]
     },
     "metadata": {
      "needs_background": "light"
     },
     "output_type": "display_data"
    }
   ],
   "source": [
    "params = np.linspace(0.0, 2 * np.pi, 25)\n",
    "data = [expectation_Z(theta) for theta in params]\n",
    " \n",
    "plt.xlabel('angulo')\n",
    "plt.ylabel('valor esperado')\n",
    "plt.plot(params, data)\n",
    "plt.show()"
   ]
  },
  {
   "cell_type": "code",
   "execution_count": 4,
   "metadata": {},
   "outputs": [
    {
     "name": "stdout",
     "output_type": "stream",
     "text": [
      " final_simplex: (array([[3.14375],\n",
      "       [3.1375 ]]), array([-0.99999767, -0.99999163]))\n",
      "           fun: -0.9999976729291358\n",
      "       message: 'Optimization terminated successfully.'\n",
      "          nfev: 28\n",
      "           nit: 14\n",
      "        status: 0\n",
      "       success: True\n",
      "             x: array([3.14375])\n"
     ]
    },
    {
     "name": "stderr",
     "output_type": "stream",
     "text": [
      "/home/cleoner/anaconda3/lib/python3.8/site-packages/scipy/optimize/optimize.py:586: ComplexWarning: Casting complex values to real discards the imaginary part\n",
      "  fsim[k] = func(sim[k])\n",
      "/home/cleoner/anaconda3/lib/python3.8/site-packages/scipy/optimize/optimize.py:611: ComplexWarning: Casting complex values to real discards the imaginary part\n",
      "  fsim[-1] = fxe\n",
      "/home/cleoner/anaconda3/lib/python3.8/site-packages/scipy/optimize/optimize.py:637: ComplexWarning: Casting complex values to real discards the imaginary part\n",
      "  fsim[-1] = fxcc\n"
     ]
    }
   ],
   "source": [
    "theta = 0.0\n",
    "minimum = minimize(expectation_Z, theta, method='Nelder-Mead', options={'initial_simplex': np.array([[0.0], [0.05]]), 'xatol': 1.0e-2})\n",
    "print(minimum)"
   ]
  },
  {
   "cell_type": "code",
   "execution_count": null,
   "metadata": {},
   "outputs": [],
   "source": []
  }
 ],
 "metadata": {
  "kernelspec": {
   "display_name": "Python 3",
   "language": "python",
   "name": "python3"
  },
  "language_info": {
   "codemirror_mode": {
    "name": "ipython",
    "version": 3
   },
   "file_extension": ".py",
   "mimetype": "text/x-python",
   "name": "python",
   "nbconvert_exporter": "python",
   "pygments_lexer": "ipython3",
   "version": "3.8.5"
  }
 },
 "nbformat": 4,
 "nbformat_minor": 4
}
