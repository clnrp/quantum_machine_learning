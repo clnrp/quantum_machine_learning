{
 "cells": [
  {
   "cell_type": "code",
   "execution_count": 1,
   "metadata": {},
   "outputs": [],
   "source": [
    "#https://arxiv.org/abs/2011.00027\n",
    "#https://github.com/KristianWold/Master-Thesis"
   ]
  },
  {
   "cell_type": "code",
   "execution_count": 2,
   "metadata": {},
   "outputs": [
    {
     "name": "stdout",
     "output_type": "stream",
     "text": [
      "Cuda is not available!\n",
      "logicqubit version 1.5.8\n"
     ]
    }
   ],
   "source": [
    "import numpy as np\n",
    "import matplotlib.pyplot as plt\n",
    "\n",
    "from torchvision import datasets, transforms\n",
    "from scipy.optimize import *\n",
    "from logicqubit import *\n",
    "from sklearn.datasets import fetch_openml\n",
    "from sklearn.decomposition import PCA\n",
    "from sklearn.preprocessing import StandardScaler\n",
    "from sklearn.model_selection import train_test_split\n",
    "from sklearn.datasets import load_iris\n",
    "from sklearn.preprocessing import scale, minmax_scale\n",
    "from sklearn.preprocessing import MinMaxScaler\n",
    "import random\n",
    "from logicqubit.logic import *"
   ]
  },
  {
   "cell_type": "code",
   "execution_count": 3,
   "metadata": {},
   "outputs": [],
   "source": [
    "iris = load_iris()\n",
    "\n",
    "x = iris.data[0:100]\n",
    "y = iris.target[0:100]\n",
    "\n",
    "scaler = MinMaxScaler((0, pi))\n",
    "x = scaler.fit_transform(x)\n",
    "\n",
    "y = minmax_scale(y)"
   ]
  },
  {
   "cell_type": "code",
   "execution_count": 15,
   "metadata": {},
   "outputs": [],
   "source": [
    "def evaluate(weights, data):\n",
    "    outputs = []\n",
    "    for x in data:    \n",
    "        logicQuBit  = LogicQuBit(4)\n",
    "        q1 = Qubit()\n",
    "        q2 = Qubit()\n",
    "        q3 = Qubit()\n",
    "        q4 = Qubit()\n",
    "        \n",
    "        q1.H()\n",
    "        q2.H()\n",
    "        q3.H()\n",
    "        q4.H()        \n",
    "\n",
    "        # encode\n",
    "        q1.RZ(x[0])\n",
    "        q2.RZ(x[1])\n",
    "        q3.RZ(x[2])\n",
    "        q4.RZ(x[3])\n",
    "\n",
    "        # weights\n",
    "        q1.RY(weights[0])\n",
    "        q2.RY(weights[1])\n",
    "        q3.RY(weights[2])\n",
    "        q4.RY(weights[3])\n",
    "\n",
    "        q2.CX(q1)\n",
    "        q3.CX(q2)\n",
    "        q4.CX(q3)\n",
    "\n",
    "        q1.RY(weights[4])\n",
    "        q2.RY(weights[5])\n",
    "        q3.RY(weights[6])\n",
    "        q4.RY(weights[7])\n",
    "\n",
    "        q2.CX(q1)\n",
    "        q3.CX(q2)\n",
    "        q4.CX(q3)\n",
    "\n",
    "        # bias\n",
    "        q4.RY(weights[8])\n",
    "\n",
    "        result = logicQuBit.Measure([q4])\n",
    "        value = result[1].real\n",
    "        outputs.append(value)\n",
    "    return np.array(outputs)"
   ]
  },
  {
   "cell_type": "code",
   "execution_count": 16,
   "metadata": {},
   "outputs": [],
   "source": [
    "def gradient(weights, x, y, y_pred):\n",
    "    n_samples = x.shape[0]\n",
    "    n_weights = weights.shape[0]\n",
    "    shift = pi/2\n",
    "    cross_entropy_deriv = (y_pred - y)/(y_pred*(1-y_pred) + 1e-15)\n",
    "    grad = np.zeros((n_weights, n_samples))\n",
    "    \n",
    "    for i in range(n_weights):\n",
    "        #parameter shift rule\n",
    "        shift_vect = np.array([shift if j==i else 0 for j in range(n_weights)])\n",
    "        shift_right = weights + shift_vect\n",
    "        shift_left = weights - shift_vect\n",
    "        \n",
    "        expectation_right = evaluate(shift_right, x)\n",
    "        expectation_left = evaluate(shift_left, x)\n",
    "\n",
    "        grad[i] = expectation_right - expectation_left\n",
    "\n",
    "    gradients = 1.0/n_samples * grad.dot(cross_entropy_deriv) #inner product\n",
    "    return gradients"
   ]
  },
  {
   "cell_type": "code",
   "execution_count": 17,
   "metadata": {},
   "outputs": [],
   "source": [
    "weights = np.random.uniform(-np.pi, np.pi, 9)"
   ]
  },
  {
   "cell_type": "code",
   "execution_count": 18,
   "metadata": {},
   "outputs": [
    {
     "name": "stdout",
     "output_type": "stream",
     "text": [
      "0.05\n",
      "0.46\n",
      "0.97\n",
      "1.0\n"
     ]
    }
   ],
   "source": [
    "lr = 1\n",
    "epochs = 100\n",
    "\n",
    "for i in range(epochs):\n",
    "    y_pred = evaluate(weights, x)\n",
    "    grad = gradient(weights, x, y, y_pred)\n",
    "    weights = weights - lr*grad\n",
    "    accuracy = np.mean(np.round(y_pred).astype(int) == y)\n",
    "    print(accuracy)\n",
    "    if accuracy > 0.98:\n",
    "        break"
   ]
  },
  {
   "cell_type": "code",
   "execution_count": 19,
   "metadata": {},
   "outputs": [
    {
     "data": {
      "text/plain": [
       "array([0, 0, 0, 0, 0, 0, 0, 0, 0, 0, 0, 0, 0, 0, 0, 0, 0, 0, 0, 0, 0, 0,\n",
       "       0, 0, 0, 0, 0, 0, 0, 0, 0, 0, 0, 0, 0, 0, 0, 0, 0, 0, 0, 0, 0, 0,\n",
       "       0, 0, 0, 0, 0, 0, 1, 1, 1, 1, 1, 1, 1, 1, 1, 1, 1, 1, 1, 1, 1, 1,\n",
       "       1, 1, 1, 1, 1, 1, 1, 1, 1, 1, 1, 1, 1, 1, 1, 1, 1, 1, 1, 1, 1, 1,\n",
       "       1, 1, 1, 1, 1, 1, 1, 1, 1, 1, 1, 1])"
      ]
     },
     "execution_count": 19,
     "metadata": {},
     "output_type": "execute_result"
    }
   ],
   "source": [
    "y_pred = evaluate(weights, x)\n",
    "np.round(y_pred).astype(int)"
   ]
  },
  {
   "cell_type": "code",
   "execution_count": null,
   "metadata": {},
   "outputs": [],
   "source": []
  }
 ],
 "metadata": {
  "kernelspec": {
   "display_name": "Python 3",
   "language": "python",
   "name": "python3"
  },
  "language_info": {
   "codemirror_mode": {
    "name": "ipython",
    "version": 3
   },
   "file_extension": ".py",
   "mimetype": "text/x-python",
   "name": "python",
   "nbconvert_exporter": "python",
   "pygments_lexer": "ipython3",
   "version": "3.8.5"
  }
 },
 "nbformat": 4,
 "nbformat_minor": 4
}
